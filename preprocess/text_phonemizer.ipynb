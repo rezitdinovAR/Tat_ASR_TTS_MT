{
 "cells": [
  {
   "cell_type": "markdown",
   "metadata": {},
   "source": [
    "# Add phonemes to dataset\n"
   ]
  },
  {
   "cell_type": "code",
   "execution_count": 1,
   "metadata": {},
   "outputs": [],
   "source": [
    "# See: https://github.com/espeak-ng/espeak-ng/blob/master/docs/languages.md\n",
    "lang = \"tt\""
   ]
  },
  {
   "cell_type": "markdown",
   "metadata": {},
   "source": [
    "### Read dataset\n"
   ]
  },
  {
   "cell_type": "code",
   "execution_count": 3,
   "metadata": {},
   "outputs": [
    {
     "data": {
      "text/html": [
       "<div>\n",
       "<style scoped>\n",
       "    .dataframe tbody tr th:only-of-type {\n",
       "        vertical-align: middle;\n",
       "    }\n",
       "\n",
       "    .dataframe tbody tr th {\n",
       "        vertical-align: top;\n",
       "    }\n",
       "\n",
       "    .dataframe thead th {\n",
       "        text-align: right;\n",
       "    }\n",
       "</style>\n",
       "<table border=\"1\" class=\"dataframe\">\n",
       "  <thead>\n",
       "    <tr style=\"text-align: right;\">\n",
       "      <th></th>\n",
       "      <th>\\tspkidx\\tspkid\\ttxtid\\tuttid\\ttext</th>\n",
       "    </tr>\n",
       "  </thead>\n",
       "  <tbody>\n",
       "    <tr>\n",
       "      <th>0</th>\n",
       "      <td>0\\t0\\t1\\ti2643\\ti2643\\tаны сәяси совет секрета...</td>\n",
       "    </tr>\n",
       "    <tr>\n",
       "      <th>1</th>\n",
       "      <td>1\\t0\\t1\\ti2124\\ti2124\\tаны зурга күтәреп җитди...</td>\n",
       "    </tr>\n",
       "    <tr>\n",
       "      <th>2</th>\n",
       "      <td>2\\t0\\t1\\ti574\\ti574\\tаңардан сак булырга кирәк...</td>\n",
       "    </tr>\n",
       "    <tr>\n",
       "      <th>3</th>\n",
       "      <td>3\\t0\\t1\\ti02299\\ti02299\\tләкин сез күз алдыгыз...</td>\n",
       "    </tr>\n",
       "    <tr>\n",
       "      <th>4</th>\n",
       "      <td>4\\t0\\t1\\ti248\\ti248\\tстариков белән газинур ан...</td>\n",
       "    </tr>\n",
       "    <tr>\n",
       "      <th>...</th>\n",
       "      <td>...</td>\n",
       "    </tr>\n",
       "    <tr>\n",
       "      <th>5453</th>\n",
       "      <td>5453\\t0\\t1\\ti00073\\ti00073\\tмин аның каршындаг...</td>\n",
       "    </tr>\n",
       "    <tr>\n",
       "      <th>5454</th>\n",
       "      <td>5454\\t0\\t1\\ti2088\\ti2088\\tукучылар макулатура ...</td>\n",
       "    </tr>\n",
       "    <tr>\n",
       "      <th>5455</th>\n",
       "      <td>5455\\t0\\t1\\ti29\\ti29\\tандрей сез тышкы яктан г...</td>\n",
       "    </tr>\n",
       "    <tr>\n",
       "      <th>5456</th>\n",
       "      <td>5456\\t0\\t1\\ti00160\\ti00160\\tшулай да сүз өзелм...</td>\n",
       "    </tr>\n",
       "    <tr>\n",
       "      <th>5457</th>\n",
       "      <td>5457\\t0\\t1\\ti447\\ti447\\tтабып чыгару белән ул ...</td>\n",
       "    </tr>\n",
       "  </tbody>\n",
       "</table>\n",
       "<p>5458 rows × 1 columns</p>\n",
       "</div>"
      ],
      "text/plain": [
       "                    \\tspkidx\\tspkid\\ttxtid\\tuttid\\ttext\n",
       "0     0\\t0\\t1\\ti2643\\ti2643\\tаны сәяси совет секрета...\n",
       "1     1\\t0\\t1\\ti2124\\ti2124\\tаны зурга күтәреп җитди...\n",
       "2     2\\t0\\t1\\ti574\\ti574\\tаңардан сак булырга кирәк...\n",
       "3     3\\t0\\t1\\ti02299\\ti02299\\tләкин сез күз алдыгыз...\n",
       "4     4\\t0\\t1\\ti248\\ti248\\tстариков белән газинур ан...\n",
       "...                                                 ...\n",
       "5453  5453\\t0\\t1\\ti00073\\ti00073\\tмин аның каршындаг...\n",
       "5454  5454\\t0\\t1\\ti2088\\ti2088\\tукучылар макулатура ...\n",
       "5455  5455\\t0\\t1\\ti29\\ti29\\tандрей сез тышкы яктан г...\n",
       "5456  5456\\t0\\t1\\ti00160\\ti00160\\tшулай да сүз өзелм...\n",
       "5457  5457\\t0\\t1\\ti447\\ti447\\tтабып чыгару белән ул ...\n",
       "\n",
       "[5458 rows x 1 columns]"
      ]
     },
     "execution_count": 3,
     "metadata": {},
     "output_type": "execute_result"
    }
   ],
   "source": [
    "import pandas as pd\n",
    "\n",
    "dataset_name = \"Almaz_new\"\n",
    "data = pd.read_csv(f\"../filelists/{dataset_name}.csv\",sep)\n",
    "data"
   ]
  },
  {
   "cell_type": "code",
   "execution_count": 6,
   "metadata": {},
   "outputs": [
    {
     "name": "stdout",
     "output_type": "stream",
     "text": [
      "audio_find_corrupted.ipynb  generate_vocab.ipynb  text_phonemizer.ipynb\r\n",
      "audio_resample.ipynb\t    text_dataset.ipynb\t  text_split.ipynb\r\n"
     ]
    }
   ],
   "source": [
    "!cd .."
   ]
  },
  {
   "cell_type": "markdown",
   "metadata": {},
   "source": [
    "### Convert the text to phonemes\n",
    "\n",
    "It may take a while. F.e. 500_000 lines of text ~ 30 minutes\n"
   ]
  },
  {
   "cell_type": "code",
   "execution_count": 5,
   "metadata": {},
   "outputs": [
    {
     "ename": "ModuleNotFoundError",
     "evalue": "No module named 'text'",
     "output_type": "error",
     "traceback": [
      "\u001b[0;31m---------------------------------------------------------------------------\u001b[0m",
      "\u001b[0;31mModuleNotFoundError\u001b[0m                       Traceback (most recent call last)",
      "Cell \u001b[0;32mIn[5], line 1\u001b[0m\n\u001b[0;32m----> 1\u001b[0m \u001b[38;5;28;01mfrom\u001b[39;00m \u001b[38;5;21;01mtext\u001b[39;00m\u001b[38;5;21;01m.\u001b[39;00m\u001b[38;5;21;01mcleaners\u001b[39;00m\u001b[38;5;21;01m.\u001b[39;00m\u001b[38;5;21;01mpy\u001b[39;00m \u001b[38;5;28;01mimport\u001b[39;00m clean_text\n\u001b[1;32m      3\u001b[0m phonemes \u001b[38;5;241m=\u001b[39m clean_text(data[\u001b[38;5;124m\"\u001b[39m\u001b[38;5;124mtext\u001b[39m\u001b[38;5;124m\"\u001b[39m], lang, fallback\u001b[38;5;241m=\u001b[39m\u001b[38;5;28;01mFalse\u001b[39;00m)\n\u001b[1;32m      5\u001b[0m phonemes \u001b[38;5;241m=\u001b[39m pd\u001b[38;5;241m.\u001b[39mDataFrame(phonemes)\n",
      "\u001b[0;31mModuleNotFoundError\u001b[0m: No module named 'text'"
     ]
    }
   ],
   "source": [
    "from text.cleaners.py import clean_text\n",
    "\n",
    "phonemes = clean_text(data[\"text\"], lang, fallback=False)\n",
    "\n",
    "phonemes = pd.DataFrame(phonemes)\n",
    "phonemes.columns = [\"phonemes\"]\n",
    "data = pd.concat([data, phonemes], axis=1)\n",
    "print(data.head())"
   ]
  },
  {
   "cell_type": "markdown",
   "metadata": {},
   "source": [
    "### Save the data to .csv file\n"
   ]
  },
  {
   "cell_type": "code",
   "execution_count": 6,
   "metadata": {},
   "outputs": [],
   "source": [
    "data.to_csv(f\"../filelists/{dataset_name}.csv\", sep=\"\\t\")"
   ]
  }
 ],
 "metadata": {
  "kernelspec": {
   "display_name": "kai",
   "language": "python",
   "name": "kai"
  },
  "language_info": {
   "codemirror_mode": {
    "name": "ipython",
    "version": 3
   },
   "file_extension": ".py",
   "mimetype": "text/x-python",
   "name": "python",
   "nbconvert_exporter": "python",
   "pygments_lexer": "ipython3",
   "version": "3.10.13"
  }
 },
 "nbformat": 4,
 "nbformat_minor": 2
}

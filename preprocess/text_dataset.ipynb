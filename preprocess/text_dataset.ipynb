{
 "cells": [
  {
   "cell_type": "markdown",
   "metadata": {},
   "source": [
    "# Create a dataset\n"
   ]
  },
  {
   "cell_type": "code",
   "execution_count": 17,
   "metadata": {},
   "outputs": [],
   "source": [
    "import pandas as pd\n",
    "import numpy as np\n",
    "\n",
    "dataset_name = \"multispeaker\"\n",
    "origin_file_path = \"/home/ips/projects/tatar-tts-2/VITS/vits/dataset.csv\""
   ]
  },
  {
   "cell_type": "code",
   "execution_count": 18,
   "metadata": {},
   "outputs": [
    {
     "name": "stdout",
     "output_type": "stream",
     "text": [
      "Number of lines: 235921\n",
      "                  id                                               text\n",
      "0  1_2301208_2301208                              хәлүшләрне әйтәсеңме.\n",
      "1  1_5100120_5100120              бүген ике баланы хастаханәгә озаттык.\n",
      "2  1_2301620_2301620                                          коточкыч.\n",
      "3  1_5202549_5202549  башта безнең группага әминәсен генә керткәннәр...\n",
      "4  1_ja00728_ja00728  ә баеган кояшның офыктагы балкышы сүнеп караңг...\n"
     ]
    }
   ],
   "source": [
    "# Read and combine data from all files\n",
    "data = pd.read_csv(origin_file_path, sep=';')\n",
    "data = data.drop(['Unnamed: 0'],axis=1)\n",
    "print(\"Number of lines:\", len(data))\n",
    "print(data.head())\n",
    "\n",
    "# The data looks like this:\n",
    "# sid_txtid_uttid text\n",
    "# 16777288_629046_281474981563595 বাঁশের প্রায়"
   ]
  },
  {
   "cell_type": "code",
   "execution_count": 19,
   "metadata": {},
   "outputs": [
    {
     "name": "stdout",
     "output_type": "stream",
     "text": [
      "  spkid    txtid    uttid                                               text\n",
      "0     1  2301208  2301208                              хәлүшләрне әйтәсеңме.\n",
      "1     1  5100120  5100120              бүген ике баланы хастаханәгә озаттык.\n",
      "2     1  2301620  2301620                                          коточкыч.\n",
      "3     1  5202549  5202549  башта безнең группага әминәсен генә керткәннәр...\n",
      "4     1  ja00728  ja00728  ә баеган кояшның офыктагы балкышы сүнеп караңг...\n"
     ]
    }
   ],
   "source": [
    "# Convert the data to the format of sid txtid uttid text, where each value in own column\n",
    "#data = data[0].row.split(\"_\", n=2, expand=True)\n",
    "\n",
    "#data = pd.concat(\n",
    "    #[data[0], data[1], data[2].str.split(\" \", n=1, expand=True)], axis=1)\n",
    "#data.columns = [\"spkid\", \"txtid\", \"uttid\", \"text\"]\n",
    "#counts = []\n",
    "\n",
    "#for line in data['id']:\n",
    "    #counts.append(line.count('_'))\n",
    "\n",
    "#print(np.unique(counts))\n",
    "data = pd.concat([pd.DataFrame(data.id.str.split('_').tolist(),columns=['spkid', 'txtid', 'uttid']),data.text],axis=1)\n",
    "print(data.head())"
   ]
  },
  {
   "cell_type": "markdown",
   "metadata": {},
   "source": [
    "### Map speaker ids to indices with sorted order\n"
   ]
  },
  {
   "cell_type": "code",
   "execution_count": 20,
   "metadata": {},
   "outputs": [
    {
     "name": "stdout",
     "output_type": "stream",
     "text": [
      "[     0      1      2 ... 217912 217913 217914]\n",
      "   spkidx spkid    txtid    uttid  \\\n",
      "0       0     1  2301208  2301208   \n",
      "1       0     1  5100120  5100120   \n",
      "2       0     1  2301620  2301620   \n",
      "3       0     1  5202549  5202549   \n",
      "4       0     1  ja00728  ja00728   \n",
      "\n",
      "                                                text  \n",
      "0                              хәлүшләрне әйтәсеңме.  \n",
      "1              бүген ике баланы хастаханәгә озаттык.  \n",
      "2                                          коточкыч.  \n",
      "3  башта безнең группага әминәсен генә керткәннәр...  \n",
      "4  ә баеган кояшның офыктагы балкышы сүнеп караңг...  \n"
     ]
    }
   ],
   "source": [
    "spkid_to_idx = {spkid: idx for idx,\n",
    "                spkid in enumerate(sorted(data.spkid.unique()))}\n",
    "spkidx = data[\"spkid\"].map(spkid_to_idx)\n",
    "print(np.unique(spkidx))\n",
    "\n",
    "spkidx = pd.DataFrame(spkidx)\n",
    "spkidx.columns = [\"spkidx\"]\n",
    "data = pd.concat([spkidx, data], axis=1)\n",
    "#print(data['spkidx'].unique())\n",
    "print(data.head())"
   ]
  },
  {
   "cell_type": "code",
   "execution_count": 21,
   "metadata": {},
   "outputs": [
    {
     "name": "stdout",
     "output_type": "stream",
     "text": [
      "Number of speakers: 217915\n"
     ]
    }
   ],
   "source": [
    "# Number of speakers\n",
    "print(\"Number of speakers:\", len(data.spkidx.unique()))"
   ]
  },
  {
   "cell_type": "markdown",
   "metadata": {},
   "source": [
    "### Save the data to .csv file\n"
   ]
  },
  {
   "cell_type": "code",
   "execution_count": 11,
   "metadata": {},
   "outputs": [],
   "source": [
    "data.reset_index(drop=True).to_csv(f\"../filelists/{dataset_name}.csv\", sep=\"\\t\")"
   ]
  },
  {
   "cell_type": "code",
   "execution_count": null,
   "metadata": {},
   "outputs": [],
   "source": []
  }
 ],
 "metadata": {
  "kernelspec": {
   "display_name": "kai",
   "language": "python",
   "name": "kai"
  },
  "language_info": {
   "codemirror_mode": {
    "name": "ipython",
    "version": 3
   },
   "file_extension": ".py",
   "mimetype": "text/x-python",
   "name": "python",
   "nbconvert_exporter": "python",
   "pygments_lexer": "ipython3",
   "version": "3.10.13"
  }
 },
 "nbformat": 4,
 "nbformat_minor": 2
}

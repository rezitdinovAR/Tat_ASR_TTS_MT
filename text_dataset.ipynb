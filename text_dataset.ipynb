{
 "cells": [
  {
   "cell_type": "markdown",
   "metadata": {},
   "source": [
    "# Create a dataset\n"
   ]
  },
  {
   "cell_type": "code",
   "execution_count": 10,
   "metadata": {},
   "outputs": [],
   "source": [
    "import pandas as pd\n",
    "import numpy as np\n",
    "\n",
    "dataset_name = \"AA_base\"\n",
    "origin_file_path = \"/home/ips/projects/tatar-tts-2/VITS/vits/dataset.csv\""
   ]
  },
  {
   "cell_type": "code",
   "execution_count": 3,
   "metadata": {},
   "outputs": [
    {
     "name": "stdout",
     "output_type": "stream",
     "text": [
      "Number of lines: 36482\n",
      "                  id                                                txt\n",
      "0  1_2301208_2301208                              хәлүшләрне әйтәсеңме.\n",
      "1  1_5100120_5100120              бүген ике баланы хастаханәгә озаттык.\n",
      "2  1_2301620_2301620                                          коточкыч.\n",
      "3  1_5202549_5202549  башта безнең группага әминәсен генә керткәннәр...\n",
      "4    2_as0695_as0695  бернәрсә турында да уйламый кебек, җитди сүзгә...\n"
     ]
    }
   ],
   "source": [
    "# Read and combine data from all files\n",
    "data = pd.read_csv(origin_file_path, sep=';')\n",
    "data = data.drop(['Unnamed: 0'],axis=1)\n",
    "print(\"Number of lines:\", len(data))\n",
    "print(data.head())\n",
    "\n",
    "# The data looks like this:\n",
    "# sid_txtid_uttid text\n",
    "# 16777288_629046_281474981563595 বাঁশের প্রায়"
   ]
  },
  {
   "cell_type": "code",
   "execution_count": 5,
   "metadata": {},
   "outputs": [
    {
     "name": "stdout",
     "output_type": "stream",
     "text": [
      "[' ' '!' ',' '-' '.' '?' 'a' 'c' 'i' 'n' 'o' 'p' 'r' 's' 't' 'v' 'y' 'z'\n",
      " 'а' 'б' 'в' 'г' 'д' 'е' 'ж' 'з' 'и' 'й' 'к' 'л' 'м' 'н' 'о' 'п' 'р' 'с'\n",
      " 'т' 'у' 'ф' 'х' 'ц' 'ч' 'ш' 'щ' 'ъ' 'ы' 'ь' 'э' 'ю' 'я' 'ё' 'җ' 'ң' 'ү'\n",
      " 'һ' 'ә' 'ө' '„']\n"
     ]
    }
   ],
   "source": [
    "megastr = ''\n",
    "for text in data['txt']:\n",
    "    megastr += text\n",
    "print(np.unique(np.array(list(megastr))))"
   ]
  },
  {
   "cell_type": "code",
   "execution_count": 6,
   "metadata": {},
   "outputs": [
    {
     "name": "stdout",
     "output_type": "stream",
     "text": [
      "  spkid    txtid    uttid                                                txt\n",
      "0     1  2301208  2301208                              хәлүшләрне әйтәсеңме.\n",
      "1     1  5100120  5100120              бүген ике баланы хастаханәгә озаттык.\n",
      "2     1  2301620  2301620                                          коточкыч.\n",
      "3     1  5202549  5202549  башта безнең группага әминәсен генә керткәннәр...\n",
      "4     2   as0695   as0695  бернәрсә турында да уйламый кебек, җитди сүзгә...\n"
     ]
    }
   ],
   "source": [
    "data = pd.concat([pd.DataFrame(data.id.str.split('_').tolist(),columns=['spkid', 'txtid', 'uttid']),data.txt],axis=1)\n",
    "print(data.head())"
   ]
  },
  {
   "cell_type": "code",
   "execution_count": 7,
   "metadata": {},
   "outputs": [
    {
     "name": "stdout",
     "output_type": "stream",
     "text": [
      "  spkid    txtid    uttid                                               text\n",
      "0     1  2301208  2301208                              хәлүшләрне әйтәсеңме.\n",
      "1     1  5100120  5100120              бүген ике баланы хастаханәгә озаттык.\n",
      "2     1  2301620  2301620                                          коточкыч.\n",
      "3     1  5202549  5202549  башта безнең группага әминәсен генә керткәннәр...\n",
      "4     2   as0695   as0695  бернәрсә турында да уйламый кебек, җитди сүзгә...\n"
     ]
    }
   ],
   "source": [
    "data['text'] = data['txt']\n",
    "data = data.drop(['txt'],axis=1)\n",
    "print(data.head())"
   ]
  },
  {
   "cell_type": "markdown",
   "metadata": {},
   "source": [
    "### Map speaker ids to indices with sorted order\n"
   ]
  },
  {
   "cell_type": "code",
   "execution_count": 8,
   "metadata": {},
   "outputs": [
    {
     "name": "stdout",
     "output_type": "stream",
     "text": [
      "[0 1]\n",
      "   spkidx spkid    txtid    uttid  \\\n",
      "0       0     1  2301208  2301208   \n",
      "1       0     1  5100120  5100120   \n",
      "2       0     1  2301620  2301620   \n",
      "3       0     1  5202549  5202549   \n",
      "4       1     2   as0695   as0695   \n",
      "\n",
      "                                                text  \n",
      "0                              хәлүшләрне әйтәсеңме.  \n",
      "1              бүген ике баланы хастаханәгә озаттык.  \n",
      "2                                          коточкыч.  \n",
      "3  башта безнең группага әминәсен генә керткәннәр...  \n",
      "4  бернәрсә турында да уйламый кебек, җитди сүзгә...  \n"
     ]
    }
   ],
   "source": [
    "spkid_to_idx = {spkid: idx for idx,\n",
    "                spkid in enumerate(sorted(data.spkid.unique()))}\n",
    "spkidx = data[\"spkid\"].map(spkid_to_idx)\n",
    "print(np.unique(spkidx))\n",
    "\n",
    "spkidx = pd.DataFrame(spkidx)\n",
    "spkidx.columns = [\"spkidx\"]\n",
    "data = pd.concat([spkidx, data], axis=1)\n",
    "#print(data['spkidx'].unique())\n",
    "print(data.head())"
   ]
  },
  {
   "cell_type": "code",
   "execution_count": 9,
   "metadata": {},
   "outputs": [
    {
     "name": "stdout",
     "output_type": "stream",
     "text": [
      "Number of speakers: 2\n"
     ]
    }
   ],
   "source": [
    "# Number of speakers\n",
    "print(\"Number of speakers:\", len(data.spkidx.unique()))"
   ]
  },
  {
   "cell_type": "markdown",
   "metadata": {},
   "source": [
    "### Save the data to .csv file\n"
   ]
  },
  {
   "cell_type": "code",
   "execution_count": 11,
   "metadata": {},
   "outputs": [],
   "source": [
    "data.reset_index(drop=True).to_csv(f\"/home/ips/projects/tatar-tts-2/VITS/vits/filelists/{dataset_name}.csv\", sep=\"\\t\")"
   ]
  },
  {
   "cell_type": "code",
   "execution_count": null,
   "metadata": {},
   "outputs": [],
   "source": []
  }
 ],
 "metadata": {
  "kernelspec": {
   "display_name": "kai",
   "language": "python",
   "name": "kai"
  },
  "language_info": {
   "codemirror_mode": {
    "name": "ipython",
    "version": 3
   },
   "file_extension": ".py",
   "mimetype": "text/x-python",
   "name": "python",
   "nbconvert_exporter": "python",
   "pygments_lexer": "ipython3",
   "version": "3.12.2"
  }
 },
 "nbformat": 4,
 "nbformat_minor": 2
}
